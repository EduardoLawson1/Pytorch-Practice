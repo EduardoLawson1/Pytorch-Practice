{
  "nbformat": 4,
  "nbformat_minor": 0,
  "metadata": {
    "colab": {
      "provenance": [],
      "gpuType": "T4",
      "authorship_tag": "ABX9TyPIZoJkik3H30e2OLu7iWXw",
      "include_colab_link": true
    },
    "kernelspec": {
      "name": "python3",
      "display_name": "Python 3"
    },
    "language_info": {
      "name": "python"
    },
    "accelerator": "GPU"
  },
  "cells": [
    {
      "cell_type": "markdown",
      "metadata": {
        "id": "view-in-github",
        "colab_type": "text"
      },
      "source": [
        "<a href=\"https://colab.research.google.com/github/EduardoLawson1/Pytorch-Practice/blob/main/Pytorch%20Custom%20Datasets/Pytorch_Custom_Datasets.ipynb\" target=\"_parent\"><img src=\"https://colab.research.google.com/assets/colab-badge.svg\" alt=\"Open In Colab\"/></a>"
      ]
    },
    {
      "cell_type": "markdown",
      "source": [
        "# Section 4 of the Pytorch for DeepLearning Bootcamp from ZTM\n",
        "\n",
        "This section is for how you use you custom datasets with Pytorch"
      ],
      "metadata": {
        "id": "5cLz5FDT1zlN"
      }
    },
    {
      "cell_type": "markdown",
      "source": [
        "## 0. Importing Pytorch and set up device agnostic code"
      ],
      "metadata": {
        "id": "GqbRjWxN2DIQ"
      }
    },
    {
      "cell_type": "code",
      "source": [
        "import torch\n",
        "from torch import nn\n",
        "\n",
        "#Note: Pytorch 1.10.0 + is required\n",
        "torch.__version__"
      ],
      "metadata": {
        "colab": {
          "base_uri": "https://localhost:8080/",
          "height": 35
        },
        "id": "Jv7d3Lxi2Tqd",
        "outputId": "72abbf00-59b8-42e8-95f7-ab9c2399f5b9"
      },
      "execution_count": 1,
      "outputs": [
        {
          "output_type": "execute_result",
          "data": {
            "text/plain": [
              "'2.3.1+cu121'"
            ],
            "application/vnd.google.colaboratory.intrinsic+json": {
              "type": "string"
            }
          },
          "metadata": {},
          "execution_count": 1
        }
      ]
    },
    {
      "cell_type": "code",
      "source": [
        "#setup device agnostic code\n",
        "device = \"cuda\" if torch.cuda.is_available() else \"cpu\"\n",
        "device"
      ],
      "metadata": {
        "colab": {
          "base_uri": "https://localhost:8080/",
          "height": 35
        },
        "id": "MKknfKwb24PB",
        "outputId": "910b5a41-75eb-451b-e753-27dcda3d4df7"
      },
      "execution_count": 2,
      "outputs": [
        {
          "output_type": "execute_result",
          "data": {
            "text/plain": [
              "'cuda'"
            ],
            "application/vnd.google.colaboratory.intrinsic+json": {
              "type": "string"
            }
          },
          "metadata": {},
          "execution_count": 2
        }
      ]
    },
    {
      "cell_type": "markdown",
      "source": [
        "## 1. Get data\n",
        "Our dataset is a subset of the Food 101 dataset.\n",
        "The Food dataset starts with 101 different class and 1000 images per class\n",
        "Our dataset starts with 3 classes of food and only 10% of the images"
      ],
      "metadata": {
        "id": "zqxtIhCfGVjP"
      }
    },
    {
      "cell_type": "code",
      "source": [
        "import requests\n",
        "import zipfile\n",
        "from pathlib import Path\n",
        "\n",
        "#setuo path to a folder\n",
        "data_path = Path(\"data/\")\n",
        "image_path = data_path / \"pizza_steak_sushi\"\n",
        "\n",
        "#if the foldere doesn't exist download it\n",
        "if image_path.is_dir():\n",
        "  print(f\"{image_path} directory already exists... skipping download\")\n",
        "else:\n",
        "  print(f\"{image_path} doesn't exists... creating one\")\n",
        "  image_path.mkdir(parents=True, exist_ok=True)\n",
        "\n",
        "#Downloading it\n",
        "with open(data_path/ \"pizza_steak_sushi.zip\", \"wb\") as f:\n",
        "  requests = requests.get(\"https://github.com/mrdbourke/pytorch-deep-learning/raw/main/data/pizza_steak_sushi.zip\")\n",
        "  print(\"Downloading dataset from github\")\n",
        "  f.write(requests.content)\n",
        "\n",
        "#unzip it\n",
        "with zipfile.ZipFile(data_path / \"pizza_steak_sushi.zip\", \"r\") as zip_ref:\n",
        "  print(\"unzipping it\")\n",
        "  zip_ref.extractall(image_path)\n"
      ],
      "metadata": {
        "colab": {
          "base_uri": "https://localhost:8080/"
        },
        "id": "QT8sipG8Gaxz",
        "outputId": "65df90c6-76d8-4d14-f198-c6e7a9fb7467"
      },
      "execution_count": 8,
      "outputs": [
        {
          "output_type": "stream",
          "name": "stdout",
          "text": [
            "data/pizza_steak_sushi directory already exists... skipping download\n",
            "Downloading dataset from github\n",
            "unzipping it\n"
          ]
        }
      ]
    },
    {
      "cell_type": "markdown",
      "source": [
        "## 2. Data preparation and data exploration"
      ],
      "metadata": {
        "id": "LTO-dHPlJq4f"
      }
    },
    {
      "cell_type": "code",
      "source": [
        "import os\n",
        "\n",
        "def walkthrough_dir(dir_path):\n",
        "  \"\"\"walks through dir_path returning its content\"\"\"\n",
        "  for dirpath, dirnames, filenames in os.walk(dir_path):\n",
        "    print(f\"There are {len(dirnames)} directories and {len(filenames)} images in {dir_path}\")\n",
        "\n",
        "walkthrough_dir(image_path)\n"
      ],
      "metadata": {
        "colab": {
          "base_uri": "https://localhost:8080/"
        },
        "id": "FB3XmTAvMQmQ",
        "outputId": "b081bee0-2b01-4e27-cd97-c74c08d73327"
      },
      "execution_count": 11,
      "outputs": [
        {
          "output_type": "stream",
          "name": "stdout",
          "text": [
            "There are 2 directories and 0 images in data/pizza_steak_sushi\n",
            "There are 3 directories and 0 images in data/pizza_steak_sushi\n",
            "There are 0 directories and 19 images in data/pizza_steak_sushi\n",
            "There are 0 directories and 31 images in data/pizza_steak_sushi\n",
            "There are 0 directories and 25 images in data/pizza_steak_sushi\n",
            "There are 3 directories and 0 images in data/pizza_steak_sushi\n",
            "There are 0 directories and 75 images in data/pizza_steak_sushi\n",
            "There are 0 directories and 72 images in data/pizza_steak_sushi\n",
            "There are 0 directories and 78 images in data/pizza_steak_sushi\n"
          ]
        }
      ]
    },
    {
      "cell_type": "code",
      "source": [
        "# Setup train and testing paths\n",
        "train_dir = image_path / \"train\"\n",
        "test_dir = image_path / \"test\"\n"
      ],
      "metadata": {
        "id": "wCRGcU_4MZAM"
      },
      "execution_count": null,
      "outputs": []
    }
  ]
}